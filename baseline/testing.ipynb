{
 "cells": [
  {
   "cell_type": "code",
   "execution_count": 1,
   "metadata": {},
   "outputs": [
    {
     "name": "stdout",
     "output_type": "stream",
     "text": [
      "<cls>GCTVEDRCLIGMGAILLNGAVIGSGSLVAAGALITQ<sep>\n"
     ]
    }
   ],
   "source": [
    "import numpy as np\n",
    "import torch\n",
    "from tape import TAPETokenizer,  ProteinBertForMaskedLM\n",
    "\n",
    "tokenizer = TAPETokenizer(vocab='iupac')  # iupac is the vocab for TAPE models, use unirep for the UniRep model\n",
    "\n",
    "model = ProteinBertForMaskedLM.from_pretrained('bert-base')\n",
    "model.eval() # deactivate dropout\n",
    "\n",
    "\n",
    "# Pfam Family: Hexapep, Clan: CL0536\n",
    "sequence = 'GCTVEDRCLIGMGAILLNGCVIGSGSLVAAGALITQ'\n",
    "token_ids = tokenizer.encode(sequence)\n",
    "input_tensor = torch.tensor([token_ids])\n",
    "\n",
    "# Predict all tokens\n",
    "with torch.no_grad():\n",
    "    outputs = model(input_tensor)\n",
    "    predictions = outputs[0]\n",
    "    logits = predictions[0] # only one sequence\n",
    "    \n",
    "pred_ids = logits.detach().numpy().argmax(1)\n",
    "pred_tokens = tokenizer.convert_ids_to_tokens(pred_ids)\n",
    "pred_seq = tokenizer.convert_tokens_to_string(pred_tokens)\n",
    "print(pred_seq)"
   ]
  },
  {
   "cell_type": "code",
   "execution_count": 43,
   "metadata": {},
   "outputs": [],
   "source": [
    "class args():\n",
    "    csv_file = '../../data.csv'\n",
    "    model = 'transformer'\n",
    "    out_file = 'outputs.npy'"
   ]
  },
  {
   "cell_type": "code",
   "execution_count": 46,
   "metadata": {},
   "outputs": [],
   "source": [
    "from tape import ProteinBertForMaskedLM, UniRepForLM, ProteinLSTMForLM, TAPETokenizer\n",
    "import pandas as pd\n",
    "import numpy as np\n",
    "import torch\n",
    "from tqdm.notebook import tqdm\n",
    "from torch.utils.data import Dataset, DataLoader\n",
    "import argparse\n",
    "\n",
    "parser = argparse.ArgumentParser(description='TAPE model evaluations')\n",
    "parser.add_argument('--csv_file', type=str, default='data/', help='location of the data ids')\n",
    "parser.add_argument('--model', choices=['transformer', 'unirep'],\n",
    "                    help='model: \"transformer\",\"unirep\"')\n",
    "parser.add_argument('--out_file' type=str, default='outputs.npy',\n",
    "                    help='path + .npy')\n",
    "\n",
    "args = parser.parse_args()\n",
    "\n",
    "class DMSDataset(Dataset):\n",
    "    \n",
    "    def __init__(self, csv_file, tokenizer):\n",
    "        data = pd.read_csv(csv_file)\n",
    "        self.sequences = np.array(data['sequence'])\n",
    "        self.fitness = np.array(data['fitness'])\n",
    "        self.tokenizer = tokenizer\n",
    "    \n",
    "    def __len__(self):\n",
    "        return len(self.sequences)\n",
    "\n",
    "    def __getitem__(self, idx):\n",
    "        \n",
    "        selected_seq = self.sequences[idx]\n",
    "        selected_fitness = self.fitness[idx]\n",
    "        \n",
    "        selected_seq = torch.tensor([self.tokenizer.encode(str(selected_seq))])\n",
    "        \n",
    "        return selected_seq, selected_fitness\n",
    "\n",
    "def get_model_and_tokenizer(model_name):\n",
    "    if model_name == 'transformer':\n",
    "        model = ProteinBertForMaskedLM.from_pretrained('bert-base')\n",
    "        vocab = 'iupac'\n",
    "    if model_name == 'unirep':\n",
    "        model = UniRepForLM.from_pretrained('babbler-1900')\n",
    "        vocab = 'unirep'\n",
    "#     if model_name == 'lstm':\n",
    "#         model = ProteinLSTMForLM.from_pretrained()\n",
    "#         vocab = 'iupac'\n",
    "    return model, TAPETokenizer(vocab=vocab)\n",
    "\n",
    "device = torch.device(\"cuda\" if torch.cuda.is_available() else \"cpu\")\n",
    "\n",
    "model, tokenizer = get_model_and_tokenizer(args.model)\n",
    "model.to(device)\n",
    "model.eval()\n",
    "\n",
    "dms = DMSDataset(args.csv_file, tokenizer)\n",
    "eval_loader = DataLoader(dms, batch_size=1, shuffle=False)\n",
    "\n",
    "with open(args.out_file, 'wb') as f:\n",
    "    for i, sample in tqdm(enumerate(eval_loader), total=len(eval_loader)):\n",
    "        with torch.no_grad():\n",
    "            sequences = sample[0][0,:,:].to(device)\n",
    "            fitness = sample[1].to(device)\n",
    "            outputs = model(sequences)[0]\n",
    "            np.save(f, np.array(outputs.cpu))"
   ]
  }
 ],
 "metadata": {
  "kernelspec": {
   "display_name": "tape",
   "language": "python",
   "name": "tape"
  },
  "language_info": {
   "codemirror_mode": {
    "name": "ipython",
    "version": 3
   },
   "file_extension": ".py",
   "mimetype": "text/x-python",
   "name": "python",
   "nbconvert_exporter": "python",
   "pygments_lexer": "ipython3",
   "version": "3.6.10"
  }
 },
 "nbformat": 4,
 "nbformat_minor": 4
}
